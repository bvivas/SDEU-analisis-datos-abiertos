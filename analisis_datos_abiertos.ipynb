{
 "cells": [
  {
   "attachments": {},
   "cell_type": "markdown",
   "metadata": {},
   "source": [
    "# ANÁLISIS DE DATOS ABIERTOS: \n",
    "## Sistemas Distribuidos, Empotrados y Ubicuos\n",
    "Belén Vivas García - belen.vivas@estudiante.uam.es"
   ]
  }
 ],
 "metadata": {
  "language_info": {
   "name": "python"
  },
  "orig_nbformat": 4
 },
 "nbformat": 4,
 "nbformat_minor": 2
}
